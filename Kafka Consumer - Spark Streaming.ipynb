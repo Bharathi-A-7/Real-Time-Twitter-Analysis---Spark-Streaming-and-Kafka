{
 "cells": [
  {
   "cell_type": "code",
   "execution_count": 1,
   "metadata": {},
   "outputs": [],
   "source": [
    "import os\n",
    "os.environ['PYSPARK_SUBMIT_ARGS'] = '--packages org.apache.spark:spark-streaming-kafka-0-8_2.11:2.3.0,org.apache.spark:spark-sql-kafka-0-10_2.11:2.3.0,org.elasticsearch:elasticsearch-hadoop:7.6.2 pyspark-shell'"
   ]
  },
  {
   "cell_type": "code",
   "execution_count": 2,
   "metadata": {},
   "outputs": [],
   "source": [
    "from pyspark import SparkContext,SparkConf\n",
    "#    Spark Streaming\n",
    "from pyspark.streaming import StreamingContext\n",
    "from pyspark.sql.session import SparkSession\n",
    "#    Kafka\n",
    "from pyspark.streaming.kafka import KafkaUtils\n",
    "#    json parsing\n",
    "import json\n",
    "import nltk\n",
    "import logging\n",
    "from datetime import datetime\n",
    "from pyspark.sql import *\n",
    "from pyspark.sql.types import *\n",
    "from pyspark.sql.functions import *\n",
    "from elasticsearch import Elasticsearch\n",
    "from elasticsearch import helpers"
   ]
  },
  {
   "cell_type": "code",
   "execution_count": 5,
   "metadata": {},
   "outputs": [],
   "source": [
    "def process(time,rdd):\n",
    "    \n",
    "     print(\"========= %s =========\" % str(time))\n",
    "     \n",
    "     try:\n",
    "        if rdd.count()==0: \n",
    "            raise Exception('Empty')\n",
    "            \n",
    "        sqlContext = getSqlContextInstance(rdd.context)\n",
    "        \n",
    "        df = sqlContext.read.json(rdd)\n",
    "        df = df.filter(\"text not like 'RT @%'\")\n",
    "        \n",
    "        if df.count() == 0: \n",
    "            raise Exception('Empty')\n",
    "            \n",
    "        udf_func = udf(lambda x: analyze_sentiment(x),returnType=StringType())\n",
    "        df = df.withColumn(\"Sentiment\",lit(udf_func(df.text)))\n",
    "        \n",
    "        print(type(df))\n",
    "        print(df.take(10))\n",
    "        \n",
    "        \n",
    "        \n",
    "        \n",
    "        #df['date'] = datetime.strptime(result[\"date\"],\"%Y-%m-%d %H:%M:%S\")\n",
    "        \n",
    "        df.writeStream.outputMode('append').format('org.elasticsearch.spark.sql').option('es.nodes','localhost').option('es.port',9200)\\\n",
    "        .option('checkpointLocation','/checkpoint').option('es.spark.sql.streaming.sink.log.enabled',False).start('PythonSparkStreamingKafka_RM_01').awaitTermination()\n",
    "        \n",
    "        #df.write.format('org.elasticsearch.spark.sql').option('es.nodes','localhost').option('es.port',9200).save(\"tweets/doc\")\n",
    "        \n",
    "        \n",
    "        #results = df.toJSON().map(lambda j: json.loads(j)).collect()\n",
    "        \n",
    "        #for result in results:\n",
    "         #   result[\"date\"]= datetime.strptime(result[\"date\"],\"%Y-%m-%d %H:%M:%S\")\n",
    "          #  result[\"sentiment\"]=json.loads(result[\"sentiment\"])\n",
    "        \n",
    "        \n",
    "        #sth2elastic(results,\"tweets\",\"doc\")\n",
    "        \n",
    "     except Exception as e:\n",
    "        print(e)\n",
    "        pass\n",
    "    "
   ]
  },
  {
   "cell_type": "code",
   "execution_count": 3,
   "metadata": {},
   "outputs": [],
   "source": [
    "def evaluate_sentiment(avg):\n",
    "    try:\n",
    "        if avg < 0:\n",
    "            return 'Negative'\n",
    "        elif avg > 0:\n",
    "            return 'Positive'\n",
    "        else:\n",
    "            return 'Neutral'\n",
    "    except TypeError:\n",
    "        return 'Neutral'\n",
    "    \n",
    "eval_udf = udf(evaluate_sentiment,StringType())"
   ]
  },
  {
   "cell_type": "code",
   "execution_count": 4,
   "metadata": {},
   "outputs": [],
   "source": [
    "def start_stream(df):\n",
    "    df.writeStream.outputMode('append').format('org.elasticsearch.spark.sql')\\\n",
    "    .option('checkpointLocation','/checkpoint')\\\n",
    "    .option('es.nodes','localhost').option('es.port',9200)\\\n",
    "    .option('es.spark.sql.streaming.sink.log.enabled',False).start('twitter_stream_analysis/doc').awaitTermination()"
   ]
  },
  {
   "cell_type": "code",
   "execution_count": 5,
   "metadata": {},
   "outputs": [
    {
     "data": {
      "text/plain": [
       "<pyspark.conf.SparkConf at 0x24b3b1bf438>"
      ]
     },
     "execution_count": 5,
     "metadata": {},
     "output_type": "execute_result"
    }
   ],
   "source": [
    "conf = SparkConf().setAppName('twitter_analysis')\n",
    "spark = SparkSession.builder.appName('twitter_analysis').getOrCreate()\n",
    "conf.set(\"es.index.auto.create\", \"true\")\n",
    "\n",
    "#sc = SparkContext.getOrCreate(appName=\"PythonSparkStreamingKafka_RM_01\")\n",
    "#sc.setLogLevel(\"INFO\")\n",
    "\n",
    "#spark = SparkSession(sc)\n",
    "\n",
    "#sc = spark._sc\n"
   ]
  },
  {
   "cell_type": "code",
   "execution_count": 6,
   "metadata": {},
   "outputs": [],
   "source": [
    "schema = StructType([StructField(\"date\", StringType(), True),\n",
    "                    StructField(\"user\", StringType(), True),\n",
    "                    StructField(\"text\", StringType(), True),\n",
    "                    StructField(\"reply_count\", IntegerType(), True),\n",
    "                    StructField(\"retweet_count\", IntegerType(), True),\n",
    "                    StructField(\"favorite_count\", IntegerType(), True),\n",
    "                    StructField(\"sentiment_score\", DoubleType(), True)])"
   ]
  },
  {
   "cell_type": "code",
   "execution_count": 9,
   "metadata": {},
   "outputs": [],
   "source": [
    "#ssc = StreamingContext(sc, 20)"
   ]
  },
  {
   "cell_type": "code",
   "execution_count": 5,
   "metadata": {},
   "outputs": [],
   "source": [
    "logging.getLogger(\"py4j\").setLevel(logging.ERROR)"
   ]
  },
  {
   "cell_type": "code",
   "execution_count": 7,
   "metadata": {},
   "outputs": [],
   "source": [
    "kafkaStream = spark.readStream.format(\"kafka\").option(\"kafka.bootstrap.servers\", \"localhost:9092\").option(\"subscribe\", \"kafkaspark\")\\\n",
    ".option('failOnDataLoss',False).load()"
   ]
  },
  {
   "cell_type": "code",
   "execution_count": 8,
   "metadata": {},
   "outputs": [],
   "source": [
    "esTimeStampFormat = \"yyyy-MM-dd'T'HH:mm:ss.SSSZ\""
   ]
  },
  {
   "cell_type": "code",
   "execution_count": 9,
   "metadata": {},
   "outputs": [],
   "source": [
    "\n",
    "parsed_df = kafkaStream.select(from_json(col('value').cast('string'),schema).alias('parsed_value'))\\\n",
    "            .withColumn('timestamp', date_format(to_timestamp(lit(current_timestamp()),\"yyyy-MM-dd'T'HH:mm:ss.SSSZ\"),esTimeStampFormat))\n",
    "\n",
    "df = parsed_df.select('parsed_value.*', 'timestamp')"
   ]
  },
  {
   "cell_type": "code",
   "execution_count": null,
   "metadata": {},
   "outputs": [],
   "source": []
  },
  {
   "cell_type": "code",
   "execution_count": 10,
   "metadata": {},
   "outputs": [],
   "source": [
    "evaluated_df = df.withColumn('status',eval_udf('sentiment_score'))\\\n",
    "               .withColumn('date',date_format(to_timestamp(col('timestamp'),\"yyyy-MM-dd'T'HH:mm:ss.SSSZ\"),esTimeStampFormat))"
   ]
  },
  {
   "cell_type": "code",
   "execution_count": null,
   "metadata": {},
   "outputs": [],
   "source": [
    "start_stream(evaluated_df)"
   ]
  },
  {
   "cell_type": "code",
   "execution_count": null,
   "metadata": {},
   "outputs": [],
   "source": []
  }
 ],
 "metadata": {
  "kernelspec": {
   "display_name": "Python 3",
   "language": "python",
   "name": "python3"
  },
  "language_info": {
   "codemirror_mode": {
    "name": "ipython",
    "version": 3
   },
   "file_extension": ".py",
   "mimetype": "text/x-python",
   "name": "python",
   "nbconvert_exporter": "python",
   "pygments_lexer": "ipython3",
   "version": "3.7.4"
  }
 },
 "nbformat": 4,
 "nbformat_minor": 2
}
